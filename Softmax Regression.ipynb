{
 "cells": [
  {
   "cell_type": "code",
   "execution_count": null,
   "id": "60e3eb83",
   "metadata": {},
   "outputs": [],
   "source": [
    "import numpy as np\n",
    "import pandas as pd\n",
    "\n",
    "np.random.seed(42)"
   ]
  },
  {
   "cell_type": "code",
   "execution_count": null,
   "id": "733a4bf7",
   "metadata": {},
   "outputs": [],
   "source": [
    "data = pd.read_csv(\"iris.csv\")"
   ]
  },
  {
   "cell_type": "code",
   "execution_count": null,
   "id": "d0f1e58a",
   "metadata": {},
   "outputs": [],
   "source": [
    "data[\"class\"].value_counts()"
   ]
  },
  {
   "cell_type": "code",
   "execution_count": null,
   "id": "d369c18f",
   "metadata": {},
   "outputs": [],
   "source": [
    "np_data = data.to_numpy()\n",
    "x = np.c_[np.ones(len(np_data)), np_data]\n",
    "x[x == \"Iris-setosa\"] = 0\n",
    "x[x == \"Iris-versicolor\"] = 1\n",
    "x[x == \"Iris-virginica\"] = 2\n",
    "np.random.shuffle(x)\n",
    "\n",
    "x_train, y_train = x[:100, :-1].astype(float), x[:100, -1]\n",
    "x_valid, y_valid = x[100: 125, :-1].astype(float), x[100:125, -1]\n",
    "x_test, y_test = x[125:, :-1].astype(float), x[125:, -1]"
   ]
  },
  {
   "cell_type": "code",
   "execution_count": null,
   "id": "a8087a7d",
   "metadata": {},
   "outputs": [],
   "source": [
    "def batch_GD(n_inputs, n_outputs):\n",
    "    parameter = np.random.randn(n_inputs, n_outputs)\n",
    "    return parameter"
   ]
  },
  {
   "cell_type": "code",
   "execution_count": null,
   "id": "1291a160",
   "metadata": {},
   "outputs": [],
   "source": [
    "def encoder(y):\n",
    "    return np.diag(np.ones(y.max() + 1))[y.astype(int)]\n",
    "    #creates 3x3 matrix, diagonal with 1s.\n",
    "    #indexes and selects the right one with the array required (2 gets the last one with the 1 at the end),\n",
    "    #1 gets the middle, 0 gets the top left."
   ]
  },
  {
   "cell_type": "code",
   "execution_count": null,
   "id": "35a13787",
   "metadata": {},
   "outputs": [],
   "source": [
    "def softmax(x):\n",
    "    return np.exp(x) / ((np.exp(x)).sum(axis = 1, keepdims = True))"
   ]
  },
  {
   "cell_type": "code",
   "execution_count": null,
   "id": "4108db7f",
   "metadata": {},
   "outputs": [],
   "source": [
    "def cross_entropy_cost(y_real, y_hat):\n",
    "    return -y_real * np.log(y_hat)"
   ]
  },
  {
   "cell_type": "code",
   "execution_count": null,
   "id": "a5a0924d",
   "metadata": {},
   "outputs": [],
   "source": [
    "mean = x_train[:, 1:].mean(axis = 0)\n",
    "std = x_train[:, 1:].std(axis = 0)\n",
    "\n",
    "y_train_encoded, y_valid_encoded, y_test_encoded = encoder(y_train), encoder(y_valid), encoder(y_test)\n",
    "\n",
    "(x_train[:, 1:] - mean) / std\n",
    "(x_valid[:, 1:] - mean) / std\n",
    "(x_train[:, 1:] - mean) / std\n",
    "\n",
    "y_train_encoded.shape"
   ]
  },
  {
   "cell_type": "code",
   "execution_count": null,
   "id": "c0af0940",
   "metadata": {},
   "outputs": [],
   "source": [
    "#training\n",
    "\n",
    "learning_rate = 0.01\n",
    "epoch = 3001\n",
    "eps = 1e-5\n",
    "length = len(x_train)\n",
    "alpha = 0.1\n",
    "parameters = batch_GD(5, 3)\n",
    "best_loss = np.inf\n",
    "\n",
    "for i in range(epoch):\n",
    "    valid_prob = softmax(x_valid @ parameters)\n",
    "    loss =  (alpha / length) * (parameters[1:] ** 2).sum() + cross_entropy_cost(y_valid_encoded, valid_prob + eps).mean()\n",
    "    if i % 500 == 0:\n",
    "        print(i, loss)\n",
    "    if loss < best_loss:\n",
    "        best_loss = loss\n",
    "    else:\n",
    "        print(\"Stopping... \", i, loss)\n",
    "        break\n",
    "    prob = softmax(x_train @ parameters)\n",
    "    gradients = (1 / length) * x_train.T @ (prob - y_train_encoded)\n",
    "    gradients += np.r_[np.zeros([1, 3]), alpha * parameters[1:]]\n",
    "    #zeros for bias\n",
    "    parameters -= gradients * learning_rate"
   ]
  },
  {
   "cell_type": "code",
   "execution_count": null,
   "id": "2327f23e",
   "metadata": {},
   "outputs": [],
   "source": [
    "prob = x_test @ parameters\n",
    "predict = softmax(prob).argmax(axis = 1)\n",
    "(predict == y_test).mean()"
   ]
  }
 ],
 "metadata": {
  "kernelspec": {
   "display_name": "Python 3 (ipykernel)",
   "language": "python",
   "name": "python3"
  },
  "language_info": {
   "codemirror_mode": {
    "name": "ipython",
    "version": 3
   },
   "file_extension": ".py",
   "mimetype": "text/x-python",
   "name": "python",
   "nbconvert_exporter": "python",
   "pygments_lexer": "ipython3",
   "version": "3.9.16"
  }
 },
 "nbformat": 4,
 "nbformat_minor": 5
}
